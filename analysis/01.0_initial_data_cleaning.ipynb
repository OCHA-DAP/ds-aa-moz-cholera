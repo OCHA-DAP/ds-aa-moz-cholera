{
 "cells": [
  {
   "cell_type": "markdown",
   "id": "c3c41623",
   "metadata": {},
   "source": [
    "# Mozambique AA for Cholera – Threshold Analysis\n",
    "\n",
    "This notebook supports the development of Anticipatory Action (AA) for cholera in Mozambique. It focuses on exploring and validating outbreak thresholds as defined in the national cholera preparedness and response plan.\n",
    "\n",
    "The analysis leverages historical cholera case data and related risk indicators stored securely in Azure Blob Storage. Due to the sensitivity of the data, the data is not publicly available.\n",
    "\n",
    "**Objectives:**\n",
    "- Understand the thresholds set by the national plan and assess their applicability.\n",
    "- Explore alternative data-driven thresholds to inform early action.\n",
    "\n",
    "> **Note:** Ensure that access credentials for the Blob Storage container are configured before running the data loading section.\n"
   ]
  },
  {
   "cell_type": "code",
   "execution_count": 4,
   "id": "e19a8143",
   "metadata": {},
   "outputs": [],
   "source": [
    "# Data and visualization\n",
    "import pandas as pd\n",
    "import numpy as np\n",
    "import matplotlib.pyplot as plt\n",
    "import seaborn as sns\n",
    "import os\n",
    "\n",
    "# Azure Blob Storage\n",
    "from azure.storage.blob import ContainerClient, BlobClient\n",
    "import io\n",
    "\n",
    "# Display settings\n",
    "pd.set_option('display.max_columns', None)\n",
    "sns.set(style=\"whitegrid\")"
   ]
  },
  {
   "cell_type": "code",
   "execution_count": 8,
   "id": "856a0226",
   "metadata": {},
   "outputs": [],
   "source": [
    "DEV_BLOB_SAS = os.getenv(\"DSCI_AZ_BLOB_DEV_SAS\")\n",
    "DEV_BLOB_NAME = \"imb0chd0dev\"\n",
    "DEV_BLOB_URL = f\"https://{DEV_BLOB_NAME}.blob.core.windows.net/\"\n",
    "CONTAINER_NAME = \"projects\"\n",
    "BLOB_PATH = \"ds-aa-moz-cholera/data/\"\n",
    "container_url = f\"{DEV_BLOB_URL}{CONTAINER_NAME}?{DEV_BLOB_SAS}\"\n",
    "container_client = ContainerClient.from_container_url(container_url)"
   ]
  },
  {
   "cell_type": "code",
   "execution_count": 12,
   "id": "fd06e9b7",
   "metadata": {},
   "outputs": [],
   "source": [
    "excel_blobs = [blob.name for blob in container_client.list_blobs(name_starts_with=BLOB_PATH) if blob.name.endswith(\".xlsx\")]\n",
    "dataframes = {}\n",
    "for blob_name in excel_blobs:\n",
    "    blob_url = f\"{DEV_BLOB_URL}{CONTAINER_NAME}/{blob_name}?{DEV_BLOB_SAS}\"\n",
    "    blob_client = BlobClient.from_blob_url(blob_url)\n",
    "    blob_data = blob_client.download_blob().readall()\n",
    "    df = pd.read_excel(io.BytesIO(blob_data))\n",
    "    key = os.path.basename(blob_name).replace(\".xlsx\", \"\")\n",
    "    dataframes[key] = df"
   ]
  },
  {
   "cell_type": "markdown",
   "id": "cfff6e37",
   "metadata": {},
   "source": [
    "## Data Cleaning"
   ]
  }
 ],
 "metadata": {
  "kernelspec": {
   "display_name": ".venv",
   "language": "python",
   "name": "python3"
  },
  "language_info": {
   "codemirror_mode": {
    "name": "ipython",
    "version": 3
   },
   "file_extension": ".py",
   "mimetype": "text/x-python",
   "name": "python",
   "nbconvert_exporter": "python",
   "pygments_lexer": "ipython3",
   "version": "3.12.2"
  }
 },
 "nbformat": 4,
 "nbformat_minor": 5
}
